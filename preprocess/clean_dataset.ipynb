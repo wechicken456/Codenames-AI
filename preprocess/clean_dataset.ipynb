{
 "cells": [
  {
   "cell_type": "code",
   "execution_count": 2,
   "id": "62a2f67f-ba24-4495-be04-63fcb1ce7e84",
   "metadata": {},
   "outputs": [
    {
     "name": "stderr",
     "output_type": "stream",
     "text": [
      "/home/pwnphofun/miniconda3/envs/codenames/lib/python3.13/site-packages/tqdm/auto.py:21: TqdmWarning: IProgress not found. Please update jupyter and ipywidgets. See https://ipywidgets.readthedocs.io/en/stable/user_install.html\n",
      "  from .autonotebook import tqdm as notebook_tqdm\n"
     ]
    },
    {
     "name": "stdout",
     "output_type": "stream",
     "text": [
      "[+] Using device: cpu\n"
     ]
    }
   ],
   "source": [
    "from annoy import AnnoyIndex\n",
    "import numpy as np\n",
    "import time\n",
    "from transformers import AutoTokenizer, AutoModel\n",
    "from collections import defaultdict\n",
    "import torch\n",
    "import torch.nn.functional as F\n",
    "from datasets import load_dataset, concatenate_datasets, Dataset\n",
    "\n",
    "device = torch.device(\"cuda\" if torch.cuda.is_available() else \"cpu\")\n",
    "print(f\"[+] Using device: {device}\")"
   ]
  },
  {
   "cell_type": "code",
   "execution_count": null,
   "id": "abc0c602-c394-4375-a884-481fe296b908",
   "metadata": {},
   "outputs": [],
   "source": []
  },
  {
   "cell_type": "code",
   "execution_count": null,
   "id": "45cfccfb-8646-4550-9eeb-716553927197",
   "metadata": {},
   "outputs": [],
   "source": [
    "def split_articles_into_paragraphs(batch):\n",
    "    paragraphs = []\n",
    "    for article in batch[\"text\"]:\n",
    "        paragraphs += article.split(\"\\n\\n\")\n",
    "    return {\"paragraph\": paragraphs}\n",
    "\n",
    "    \n",
    "def clean_dataset():\n",
    "    start = time.time()\n",
    "    print(\"[*] Loading dataset...\")\n",
    "    dataset = load_dataset(\"omarkamali/wikipedia-monthly\", \"latest.en\", num_proc=16, split=\"train\")\n",
    "    print(dataset)\n",
    "    print(f\"[+] Finished loading dataset. Time taken: {time.time() - start}\")\n",
    "    \n",
    "    print(\"[*] Splitting into paragraphs...\")\n",
    "    cleaned_dataset = dataset.map(split_articles_into_paragraphs, batched=True, batch_size=768, num_proc = 16, remove_columns=dataset.column_names)\n",
    "    print(\"[+] Done splitting into paragraphs\")\n",
    "    print(\"[*] Saving cleaned dataset to disk...\")\n",
    "    output_path = \"./cleaned_paragraphs\"\n",
    "    cleaned_dataset.save_to_disk(output_path)\n",
    "    print(f\"Total time taken: {time.time() - start:.2f}s\")\n"
   ]
  },
  {
   "cell_type": "code",
   "execution_count": null,
   "id": "e60e07a6-419e-4938-af77-a04d458c5280",
   "metadata": {},
   "outputs": [],
   "source": [
    "clean_dataset()"
   ]
  },
  {
   "cell_type": "code",
   "execution_count": null,
   "id": "1a4a6271-a79c-44d6-9206-7052206c5bd3",
   "metadata": {},
   "outputs": [],
   "source": []
  },
  {
   "cell_type": "code",
   "execution_count": null,
   "id": "2c4f85d1-b015-42fc-9d01-b366ecc364e9",
   "metadata": {},
   "outputs": [],
   "source": []
  },
  {
   "cell_type": "code",
   "execution_count": null,
   "id": "b296fd08-f518-4864-8441-a81efb9aeaf7",
   "metadata": {},
   "outputs": [],
   "source": []
  }
 ],
 "metadata": {
  "kernelspec": {
   "display_name": "Python 3 (ipykernel)",
   "language": "python",
   "name": "python3"
  },
  "language_info": {
   "codemirror_mode": {
    "name": "ipython",
    "version": 3
   },
   "file_extension": ".py",
   "mimetype": "text/x-python",
   "name": "python",
   "nbconvert_exporter": "python",
   "pygments_lexer": "ipython3",
   "version": "3.13.2"
  }
 },
 "nbformat": 4,
 "nbformat_minor": 5
}
