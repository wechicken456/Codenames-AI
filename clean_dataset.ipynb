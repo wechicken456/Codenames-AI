{
 "cells": [
  {
   "cell_type": "code",
   "execution_count": 3,
   "id": "62a2f67f-ba24-4495-be04-63fcb1ce7e84",
   "metadata": {},
   "outputs": [
    {
     "name": "stdout",
     "output_type": "stream",
     "text": [
      "[+] Using device: cpu\n"
     ]
    }
   ],
   "source": [
    "from annoy import AnnoyIndex\n",
    "import numpy as np\n",
    "import time\n",
    "from transformers import AutoTokenizer, AutoModel\n",
    "from collections import defaultdict\n",
    "import spacy\n",
    "import torch\n",
    "import torch.nn.functional as F\n",
    "from datasets import load_dataset, concatenate_datasets, Dataset\n",
    "\n",
    "device = torch.device(\"cuda\" if torch.cuda.is_available() else \"cpu\")\n",
    "print(f\"[+] Using device: {device}\")"
   ]
  },
  {
   "cell_type": "code",
   "execution_count": 4,
   "id": "abc0c602-c394-4375-a884-481fe296b908",
   "metadata": {},
   "outputs": [
    {
     "data": {
      "text/plain": [
       "<spacy.pipeline.sentencizer.Sentencizer at 0x7c3988287490>"
      ]
     },
     "execution_count": 4,
     "metadata": {},
     "output_type": "execute_result"
    }
   ],
   "source": [
    "nlp = spacy.blank(\"en\")\n",
    "nlp.add_pipe(\"sentencizer\")"
   ]
  },
  {
   "cell_type": "code",
   "execution_count": null,
   "id": "45cfccfb-8646-4550-9eeb-716553927197",
   "metadata": {},
   "outputs": [],
   "source": [
    "def split_articles_into_sentences(batch):\n",
    "    docs = nlp.pipe(batch[\"text\"], n_process=12, batch_size=64)\n",
    "    sentences = [sent.text.strip() for doc in docs for sent in doc.sents]\n",
    "    return {\"sentence\": sentences}\n",
    "\n",
    "    \n",
    "def clean_dataset():\n",
    "    start = time.time()\n",
    "    print(\"[-] Loading dataset...\")\n",
    "    dataset = load_dataset(\"omarkamali/wikipedia-monthly\", \"latest.en\", num_proc=16, split=\"train\")\n",
    "    print(dataset)\n",
    "    print(f\"[+] Finished loading dataset. Time taken: {time.time() - start}\")\n",
    "    \n",
    "    print(\"[-] Splitting into sentences...\")\n",
    "    sentencized_dataset = dataset.map(split_articles_into_sentences, batched=True, batch_size=768, remove_columns=dataset.column_names)\n",
    "    print(\"[+] Done splitting into sentences\")\n",
    "    print(\"[-] Saving cleaned dataset to disk...\")\n",
    "    output_path = \"./cleaned_sentences\"\n",
    "    sentencized_dataset.save_to_disk(output_path)\n",
    "    print(f\"Total time taken: {time.time() - start:.2f}s\")\n"
   ]
  },
  {
   "cell_type": "code",
   "execution_count": null,
   "id": "e60e07a6-419e-4938-af77-a04d458c5280",
   "metadata": {},
   "outputs": [],
   "source": [
    "clean_dataset()"
   ]
  },
  {
   "cell_type": "code",
   "execution_count": 12,
   "id": "1a4a6271-a79c-44d6-9206-7052206c5bd3",
   "metadata": {},
   "outputs": [
    {
     "name": "stdout",
     "output_type": "stream",
     "text": [
      "It was a horse-drawn stagecoach built by another manufacturer, which they retrofitted with an engine of their design.\n",
      "By 1895, about 30 vehicles had been built by Daimler and Maybach, either at the Daimler works or in the Hotel Hermann, where they set up shop after disputes with their backers.\n",
      "Benz, Maybach, and the Daimler team seem to have been unaware of each other's early work.\n",
      "They never worked together; by the time of the merger of the two companies, Daimler and Maybach were no longer part of DMG.\n",
      "Daimler died in 1900 and later that year, Maybach designed an engine named Daimler-Mercedes that was placed in a specially ordered model built to specifications set by Emil Jellinek.\n",
      "This was a production of a small number of vehicles for Jellinek to race and market in his country.\n",
      "Two years later, in 1902, a new model DMG car was produced and the model was named Mercedes after the Maybach engine, which generated 35 hp.\n",
      "Maybach quit DMG shortly thereafter and opened a business of his own.\n",
      "Rights to the Daimler brand name were sold to other manufacturers.\n",
      "In 1890, Émile Levassor and Armand Peugeot of France began producing vehicles with Daimler engines, and so laid the foundation of the automotive industry in France.\n",
      "In 1891, Auguste Doriot and his Peugeot colleague Louis Rigoulot completed the longest trip by a petrol-driven vehicle when their self-designed and built Daimler powered Peugeot Type 3 completed 2,100 kilometres (1,300 mi) from Valentigney to Paris and Brest and back again.\n",
      "They were attached to the first Paris–Brest–Paris bicycle race, but finished six days after the winning cyclist, Charles Terront.\n",
      "\n"
     ]
    }
   ],
   "source": [
    "paragraph = [\"\"\"\n",
    "It was a horse-drawn stagecoach built by another manufacturer, which they retrofitted with an engine of their design. By 1895, about 30 vehicles had been built by Daimler and Maybach, either at the Daimler works or in the Hotel Hermann, where they set up shop after disputes with their backers. Benz, Maybach, and the Daimler team seem to have been unaware of each other's early work. They never worked together; by the time of the merger of the two companies, Daimler and Maybach were no longer part of DMG. Daimler died in 1900 and later that year, Maybach designed an engine named Daimler-Mercedes that was placed in a specially ordered model built to specifications set by Emil Jellinek. This was a production of a small number of vehicles for Jellinek to race and market in his country. Two years later, in 1902, a new model DMG car was produced and the model was named Mercedes after the Maybach engine, which generated 35 hp. Maybach quit DMG shortly thereafter and opened a business of his own. Rights to the Daimler brand name were sold to other manufacturers.\n",
    "\n",
    "In 1890, Émile Levassor and Armand Peugeot of France began producing vehicles with Daimler engines, and so laid the foundation of the automotive industry in France. In 1891, Auguste Doriot and his Peugeot colleague Louis Rigoulot completed the longest trip by a petrol-driven vehicle when their self-designed and built Daimler powered Peugeot Type 3 completed 2,100 kilometres (1,300 mi) from Valentigney to Paris and Brest and back again. They were attached to the first Paris–Brest–Paris bicycle race, but finished six days after the winning cyclist, Charles Terront.\n",
    "\"\"\"]\n",
    "\n",
    "docs = nlp.pipe(paragraph)\n",
    "for doc in docs:\n",
    "    for sent in doc.sents:\n",
    "        print(sent.text.strip())"
   ]
  },
  {
   "cell_type": "code",
   "execution_count": null,
   "id": "2c4f85d1-b015-42fc-9d01-b366ecc364e9",
   "metadata": {},
   "outputs": [],
   "source": []
  }
 ],
 "metadata": {
  "kernelspec": {
   "display_name": "Python 3 (ipykernel)",
   "language": "python",
   "name": "python3"
  },
  "language_info": {
   "codemirror_mode": {
    "name": "ipython",
    "version": 3
   },
   "file_extension": ".py",
   "mimetype": "text/x-python",
   "name": "python",
   "nbconvert_exporter": "python",
   "pygments_lexer": "ipython3",
   "version": "3.13.2"
  }
 },
 "nbformat": 4,
 "nbformat_minor": 5
}
