{
 "cells": [
  {
   "cell_type": "code",
   "execution_count": 3,
   "id": "a92de0e8-a69b-40d5-af18-cd04589eb629",
   "metadata": {},
   "outputs": [
    {
     "name": "stderr",
     "output_type": "stream",
     "text": [
      "/home/pwnphofun/miniconda3/envs/codenames/lib/python3.13/site-packages/tqdm/auto.py:21: TqdmWarning: IProgress not found. Please update jupyter and ipywidgets. See https://ipywidgets.readthedocs.io/en/stable/user_install.html\n",
      "  from .autonotebook import tqdm as notebook_tqdm\n"
     ]
    }
   ],
   "source": [
    "from openai import OpenAI\n",
    "from dotenv import load_dotenv\n",
    "import os\n",
    "import time\n",
    "from sentence_transformers import SentenceTransformer\n",
    "emb_mod = SentenceTransformer('sentence-transformers/all-MiniLM-L6-v2')\n",
    "\n",
    "load_dotenv(\"../.env\")\n",
    "openAI_api_key = os.environ.get(\"OPENAI_API_KEY\")"
   ]
  },
  {
   "cell_type": "code",
   "execution_count": 4,
   "id": "ddbf02fa-15cf-420b-97fa-3fb14aae596c",
   "metadata": {},
   "outputs": [],
   "source": [
    "client = OpenAI(api_key=openAI_api_key)"
   ]
  },
  {
   "cell_type": "code",
   "execution_count": 22,
   "id": "2bef3159-0cd4-49c8-9d61-11badb7aadc1",
   "metadata": {},
   "outputs": [],
   "source": [
    "team = \"blue\"\n",
    "enemy = \"red\"\n",
    "system_prompt = f\"\"\"\n",
    "\n",
    "You are a human that plays the game Codenames utilising common knowledge.\n",
    "**Your Task: You will be provided a list of {team} target words, {enemy} enemy words, neutral civilian words, and an Assassin word. Your goal is to generate a list of high-quality and **immediately understandable** clues, each targeting as many of the {team} target words as possible while maximizing clarity and minimizing ambiguity. Each clue also has to absolutely avoid any connnection to the assassin word. You might provide up to 5 clues.**\n",
    "\n",
    "**Clue Generation Principles:**\n",
    "1. Clue Rules (Crucial):\n",
    "    * **Strong Semantic Relation:** Must be **immediately and clearly** semantically related to **as many of the target words as possible**, using *primary meanings* or *widely recognized themes* that a typical human guesser would quickly understand.\n",
    "    * **Single Word:** Must be a single English word.\n",
    "    * **No Direct Forms:** Must NOT be a form (inflection, derivation) of any word currently visible on the board (e.g., if 'DRIVE' is on board, 'DRIVER', 'DRIVING', 'DRIVES' are invalid).\n",
    "    * **No Substring/Superstring Containment (if related):** Must NOT contain a word on the board (e.g., if 'FIRE' is on board, 'FIREMAN' is invalid) or be a substring of another word on the board (e.g., if 'SKYLINE' is on the board, 'SKY' is invalid).\n",
    "\n",
    "2. **Overall Clue Quality (Reinforcing Clarity):**\n",
    "    * **Strength & Directness of Association:** The clue must strongly connect to *as many of the target words as possible** via their *primary meanings* or *obvious shared themes* (e.g., “fruit” for APPLE, BANANA, ORANGE is clear).\n",
    "    * **Unambiguity:** Ensure the clue has minimal overlap with the Assassin word. This is the most critical negative constraint.\n",
    "    * **Minimal Connection to the {enemy} enemy words and civilian words**: After minimizing the overlap with the Assassin word, minize your clues' associations with the enemy words and civilian words. A bad clue will make your teammate guesser guesses the enemy word and give the enemy an advantage. \n",
    "    * **Think Like a Typical Human Guesser:** The clue must be instantly recognizable and understandable to a typical human with general knowledge (not an AI or expert). Avoid clues that rely on niche, context-specific, or obscure associations.\n",
    "    * **Avoid clue words that need to pair with other words to make a phrase**: for example, the clue \"hair\" that targets \"FALL\" and \"CYCLE\" is unacceptable if your reasoning is it's supposed to evoke “hair fall” and “hair cycle\". \n",
    "    * **High-Quality Clues**: high-quality clues represent complex linguistic relationships such as syno-, anto-, hyper-, hypo- and meronymy. \n",
    "    \n",
    "3. **Safety First (Assassin Avoidance):**\n",
    "    * **ABSOLUTELY AVOID** any clue that has even a remote chance of relating to any concepts related to he ASSASSIN word. This is the highest priority negative constraint.\n",
    "\n",
    "* **Examples of Good vs. Bad Clues:**\n",
    "        * **Good Clue:** “Ocean” for WAVE, TIDE, CORAL (clear, direct, universally understood theme of ocean-related terms).\n",
    "        * **Bad Clue:** “Hair” for BRUSH, FALL, CYCLE (niche associations like “hair fall” and “hair cycle” are not obvious; a human might think of SCALP or COMB instead).\n",
    "        * **Bad Clue:** “Revolver” for PISTOL, PLOT, WITCH (connection to PLOT is abstract, and WITCH is unrelated for humans).\n",
    "        * **Bad Clue:** “djedkare” is a bad clue. Even though it refers to the name of the ruler of Egypt in the 25thcentury B.C., and therefore connects the words “egypt” and “king.\", it is so niche that it does not reflect the average person’s knowledge of the English language and is likely to yield random guesses if presented to a human player. \n",
    "\n",
    "\n",
    "You may choose up to 5 clues. For each clue, think about why you would choose it, and revisit the guidelines/strategies given to see if the clue matches all the criterias. If you picked a clue and later realized that it's not good, then discard that clue. For each clue, provide reasoning that includes:\n",
    "* why it relates to the provided list of target words. \n",
    "* why it adheres to the guidelines/rules provided.\n",
    "* Confirmation that the clue avoids the Assassin word. \n",
    "\n",
    "**Output Format:**\n",
    "On a new line at the end of your response, list the clues separated by commas, in order starting with the best clue. All clues must be on the same line at the end.\n",
    "EXAMPLE if you choose to provide 3 clues: \n",
    "clue1, clue2, clue3\n",
    "\"\"\""
   ]
  },
  {
   "cell_type": "code",
   "execution_count": 23,
   "id": "9299c294-72a6-4bbf-8275-a942cf2cd64a",
   "metadata": {},
   "outputs": [],
   "source": [
    "history = [{\"role\": \"system\", \"content\": system_prompt}]"
   ]
  },
  {
   "cell_type": "code",
   "execution_count": 24,
   "id": "340e650b-319f-4da6-be30-72e2cb7c2bc4",
   "metadata": {},
   "outputs": [],
   "source": [
    "red_words = [\n",
    "    \"amazon\", \"hole\", \"shark\", \"ground\", \"shop\", \"cast\", \"nurse\", \"server\", \"vacuum\", \"rock\"\n",
    "]\n",
    "red_words = [word.upper() for word in red_words]\n",
    "\n",
    "blue_words = [\n",
    "    \"crown\", \"pit\", \"change\", \"glove\", \"charge\", \"torch\", \"whip\", \"fly\", \"africa\", \"giant\"\n",
    "]\n",
    "blue_words = [word.upper() for word in blue_words]\n",
    "\n",
    "neutral_words = [\n",
    "    \"CONDUCTOR\", \"HEART\", \"TOKYO\",\n",
    "    \"BOW\", \"DANCE\", \"LIFE\", \"SOCK\"\n",
    "]\n",
    "\n",
    "assassin_word = \"AGENT\"\n"
   ]
  },
  {
   "cell_type": "code",
   "execution_count": 25,
   "id": "8b24747c-66b4-4740-a6b2-2d84fa36af5c",
   "metadata": {},
   "outputs": [
    {
     "name": "stdout",
     "output_type": "stream",
     "text": [
      "The remaining words are: Red: AMAZON, HOLE, SHARK, GROUND, SHOP, CAST, NURSE, SERVER, VACUUM, ROCK.\n",
      "Blue: CROWN, PIT, CHANGE, GLOVE, CHARGE, TORCH, WHIP, FLY, AFRICA, GIANT.\n",
      "Civilian: CONDUCTOR, HEART, TOKYO, BOW, DANCE, LIFE, SOCK.\n",
      "Assassin: AGENT. **You are the blue Codemaster. Analyze the provided game state and generate your list of candidate clues now. Remember that your clues must adhere to the rules provided in the Game Overview section.**\n"
     ]
    }
   ],
   "source": [
    "prompt = \"\"\n",
    "prompt += \"The remaining words are: \"\n",
    "prompt += \"Red: \" + \", \".join(red_words) + \".\\n\"\n",
    "prompt += \"Blue: \" + \", \".join(blue_words) + \".\\n\"\n",
    "prompt += \"Civilian: \" + \", \".join(neutral_words) + \".\\n\"\n",
    "prompt += \"Assassin: \" + assassin_word + \". \"\n",
    "prompt += f\"**You are the {team} Codemaster. Analyze the provided game state and generate your list of candidate clues now. Remember that your clues must adhere to the rules provided in the Game Overview section.**\"\n",
    "print(prompt)\n",
    "history.append({\"role\": \"user\", \"content\": prompt})\n"
   ]
  },
  {
   "cell_type": "code",
   "execution_count": 26,
   "id": "4a92deaa-97b3-48dd-81c1-3f98892bd09e",
   "metadata": {},
   "outputs": [
    {
     "name": "stdout",
     "output_type": "stream",
     "text": [
      "Time to generate clues: 30.636608600616455\n"
     ]
    }
   ],
   "source": [
    "start = time.time()\n",
    "response = client.chat.completions.create(\n",
    "            messages=history,\n",
    "            model=\"gpt-4.1\",\n",
    "        ).choices[0].message.content\n",
    "\n",
    "print(f\"Time to generate clues: {time.time() - start}\")"
   ]
  },
  {
   "cell_type": "code",
   "execution_count": 27,
   "id": "42629872-8294-404a-9b1a-10c1fd957f58",
   "metadata": {},
   "outputs": [
    {
     "name": "stdout",
     "output_type": "stream",
     "text": [
      "Let’s first analyze the word groups:\n",
      "\n",
      "**Blue targets:**  \n",
      "CROWN, PIT, CHANGE, GLOVE, CHARGE, TORCH, WHIP, FLY, AFRICA, GIANT\n",
      "\n",
      "**Red (danger words):**  \n",
      "AMAZON, HOLE, SHARK, GROUND, SHOP, CAST, NURSE, SERVER, VACUUM, ROCK\n",
      "\n",
      "**Civilians:**  \n",
      "CONDUCTOR, HEART, TOKYO, BOW, DANCE, LIFE, SOCK\n",
      "\n",
      "**Assassin:**  \n",
      "AGENT\n",
      "\n",
      "## Step 1: Cluster blue targets into possible clue groupings\n",
      "\n",
      "Let’s look for groups that can be safely linked with a single concept:\n",
      "\n",
      "### A. CROWN, GIANT, AFRICA\n",
      "- “Africa” is unique and not otherwise paired. “Giant” and “Crown” can sometimes be linked in myth/royalty, but hard to tie with \"AFRICA\" safely.\n",
      "\n",
      "### B. GLOVE, WHIP, TORCH\n",
      "- “Glove” and “Whip” could fit with \"TORCH\" as equipment/tools or something a person holds.\n",
      "- However, “GLOVE” and “WHIP” can also relate to sports/boxing, \"TORCH\" to Olympics.\n",
      "\n",
      "### C. CHANGE, CHARGE\n",
      "- Both relate to money or electrical concepts. \"CONDUCTOR\" is a civilian, so \"electric\" clues are risky.\n",
      "\n",
      "### D. FLY, PIT\n",
      "- Not much overlap unless going into aviation (\"PIT\" as in pit crew, but that's niche).\n",
      "\n",
      "Let’s check for safe, strong clues for larger sweeps.\n",
      "\n",
      "---\n",
      "\n",
      "## Step 2: Try to find largest safe groupings\n",
      "\n",
      "### Equipment / Objects held or used\n",
      "- GLOVE, TORCH, WHIP\n",
      "  - “Olympics” isn’t safe due to \"GLOVE\" and \"TORCH\", but “IndianaJones” for \"WHIP\", \"TORCH\" is obscure.\n",
      "  - “Tool” risks \"SERVER\" (as in server tool), \"SHOP\".\n",
      "\n",
      "### Royalty / Leadership\n",
      "- CROWN, CHARGE (as in, to be in charge), GIANT (giant should not connect).\n",
      "- “King” best connects \"CROWN\".\n",
      "\n",
      "### Electrical / Currency\n",
      "- CHANGE, CHARGE\n",
      "  - “Current” would connect, but with \"CONDUCTOR\" (civilian) risks, and “Change” is more financial.\n",
      "  - \"Money\" covers \"CHANGE\" but might connect to \"SHOP\" (red).\n",
      "\n",
      "### Africa\n",
      "- \"AFRICA\" is a region, possibly \"CROWN\" for African royalty or \"GIANT\" for fauna.\n",
      "\n",
      "### Fly\n",
      "- “Insect” (though “FLY” also means to fly). Safe, as nothing else seems insect-related.\n",
      "\n",
      "---\n",
      "\n",
      "### Target Pairs or Triplets\n",
      "\n",
      "#### Attempting largest group duo/trio:\n",
      "\n",
      "1. **GLOVE, TORCH, WHIP**: \"Equipment\" might point to \"SERVER\" (red) or \"SHOP\" (red), so not good.\n",
      "    - \"Olympic\" = GLOVE (boxing), TORCH, not \"WHIP\".\n",
      "    - \"Leather\" = GLOVE, WHIP, potential for \"JACKET\" if present, but not.\n",
      "\n",
      "2. **CHANGE, CHARGE**: “Coin” is close, but “Money” risks \"SHOP\".\n",
      "\n",
      "3. **CROWN, GIANT, AFRICA**: \"Safari\" = AFRICA, \"GIANT\" (e.g. elephants), \"CROWN\" (maybe not so direct).\n",
      "\n",
      "---\n",
      "\n",
      "## Step 3: Evaluate clue safety re: Assassin (\"AGENT\")\n",
      "\n",
      "***Must not choose anything reminiscent of AGENT (spy, secret, organization, actor, representative, job, role, etc.)***\n",
      "\n",
      "None of the above clusters overlap with AGENT.\n",
      "\n",
      "---\n",
      "\n",
      "## Step 4: Build the actual clue list\n",
      "\n",
      "### Clue 1: LEATHER (for GLOVE, WHIP)\n",
      "- Both are strongly and commonly associated with leather.\n",
      "- \"LEATHER\" is not related to AGENT.\n",
      "- Potential risks: \"SOCK\" (civilian), but \"leather socks\" not a common phrase; \"SHOP\" (red), but only loosely (many words buy/sell at shops).\n",
      "\n",
      "### Clue 2: ROYALTY (for CROWN)\n",
      "- \"CROWN\" is strongly associated.\n",
      "- None of the reds or civilians are directly linked. No AGENT risk.\n",
      "\n",
      "### Clue 3: COIN (for CHANGE)\n",
      "- \"CHANGE\" and \"COIN\" are direct.\n",
      "- Minor risk: \"CHARGE\" (if they think of coin charge), \"SHOP\" (spending coins), but not strongly.\n",
      "- No AGENT risk.\n",
      "\n",
      "### Clue 4: INSECT (for FLY)\n",
      "- FLY is a common insect.\n",
      "- No other item on the board fits \"INSECT\".\n",
      "- No AGENT risk.\n",
      "\n",
      "### Clue 5: OLYMPIC (for TORCH, GLOVE)\n",
      "- OLYMPIC uses a torch, and boxing gloves are iconic in Olympics.\n",
      "- No other words directly link.\n",
      "- No AGENT risk.\n",
      "\n",
      "### Discarded Ideas:\n",
      "\n",
      "- SAFARI: Includes \"AFRICA\", potential for \"GIANT\" (fauna), but not strong enough for \"CROWN\".\n",
      "- POWER: \"CHARGE\", \"CHANGE\" (but risk with \"SERVER\", \"CONDUCTOR\").\n",
      "- ELEPHANT: Only relates to \"GIANT\" among blue, does not maximize guess count.\n",
      "\n",
      "---\n",
      "\n",
      "**Final Clue Reasoning:**\n",
      "\n",
      "1. **LEATHER**: Connects \"GLOVE\" and \"WHIP\" clearly; minimal risk.\n",
      "2. **ROYALTY**: Strong for \"CROWN\".\n",
      "3. **COIN**: Strongest for \"CHANGE\".\n",
      "4. **INSECT**: \"FLY\" is obvious.\n",
      "5. **OLYMPIC**: \"TORCH\" (symbol of Olympics), and \"GLOVE\" (boxing), easily connects for most people.\n",
      "\n",
      "---\n",
      "\n",
      "leather, royalty, coin, insect, olympic\n"
     ]
    }
   ],
   "source": [
    "print(response)"
   ]
  },
  {
   "cell_type": "code",
   "execution_count": 49,
   "id": "fff39090-f389-45a9-9c23-ca7d0aa2aaa1",
   "metadata": {},
   "outputs": [
    {
     "name": "stdout",
     "output_type": "stream",
     "text": [
      "I’ll explain my reasoning for the chosen clue:\n",
      "\n",
      "Chosen clue: Mummy\n",
      "\n",
      "• Connection to GHOST: A mummy is a classic undead, ghostly figure in horror stories.  \n",
      "• Connection to COMIC: There are well‐known comic adaptations and horror comics featuring mummies.  \n",
      "• Connection to EGYPT: Mummies are by far the most iconic symbol of ancient Egypt.  \n",
      "• Connection to HOOD: A mummy is wrapped in strips of fabric that serve as a sort of hood or covering.  \n",
      "• Connection to STRING: The long, bandage-like strips used to wrap a mummy are reminiscent of strings.  \n",
      "\n",
      "Additionally, “Mummy” is a single, simple English word that directly evokes these primary and widely recognized themes. It does not form any inflection or derivation of the target words, nor does it incorporate or hide a board word. Most importantly, it has no connection whatsoever to the assassin word “AGENT.”\n",
      "\n",
      "Mummy\n"
     ]
    }
   ],
   "source": [
    "print(response)"
   ]
  },
  {
   "cell_type": "code",
   "execution_count": null,
   "id": "7c0e78ae-8de4-42d1-8f31-67cf3568c389",
   "metadata": {},
   "outputs": [],
   "source": []
  }
 ],
 "metadata": {
  "kernelspec": {
   "display_name": "Python 3 (ipykernel)",
   "language": "python",
   "name": "python3"
  },
  "language_info": {
   "codemirror_mode": {
    "name": "ipython",
    "version": 3
   },
   "file_extension": ".py",
   "mimetype": "text/x-python",
   "name": "python",
   "nbconvert_exporter": "python",
   "pygments_lexer": "ipython3",
   "version": "3.13.2"
  }
 },
 "nbformat": 4,
 "nbformat_minor": 5
}
